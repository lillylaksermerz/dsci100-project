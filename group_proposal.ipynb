{
 "cells": [
  {
   "cell_type": "markdown",
   "id": "24beff62-bef3-4cfe-8bef-edb6b77476a1",
   "metadata": {},
   "source": [
    "# Loan Status Prediction "
   ]
  },
  {
   "cell_type": "markdown",
   "id": "eda8d476-343b-4ddb-93e7-dd50c1b804b0",
   "metadata": {},
   "source": [
    "## Introduction "
   ]
  },
  {
   "cell_type": "code",
   "execution_count": 1,
   "id": "e9c6d2ba-7f5f-4ba4-b53e-e241c87d3c51",
   "metadata": {},
   "outputs": [
    {
     "name": "stderr",
     "output_type": "stream",
     "text": [
      "── \u001b[1mAttaching core tidyverse packages\u001b[22m ──────────────────────── tidyverse 2.0.0 ──\n",
      "\u001b[32m✔\u001b[39m \u001b[34mdplyr    \u001b[39m 1.1.3     \u001b[32m✔\u001b[39m \u001b[34mreadr    \u001b[39m 2.1.4\n",
      "\u001b[32m✔\u001b[39m \u001b[34mforcats  \u001b[39m 1.0.0     \u001b[32m✔\u001b[39m \u001b[34mstringr  \u001b[39m 1.5.0\n",
      "\u001b[32m✔\u001b[39m \u001b[34mggplot2  \u001b[39m 3.4.4     \u001b[32m✔\u001b[39m \u001b[34mtibble   \u001b[39m 3.2.1\n",
      "\u001b[32m✔\u001b[39m \u001b[34mlubridate\u001b[39m 1.9.3     \u001b[32m✔\u001b[39m \u001b[34mtidyr    \u001b[39m 1.3.0\n",
      "\u001b[32m✔\u001b[39m \u001b[34mpurrr    \u001b[39m 1.0.2     \n",
      "── \u001b[1mConflicts\u001b[22m ────────────────────────────────────────── tidyverse_conflicts() ──\n",
      "\u001b[31m✖\u001b[39m \u001b[34mdplyr\u001b[39m::\u001b[32mfilter()\u001b[39m masks \u001b[34mstats\u001b[39m::filter()\n",
      "\u001b[31m✖\u001b[39m \u001b[34mdplyr\u001b[39m::\u001b[32mlag()\u001b[39m    masks \u001b[34mstats\u001b[39m::lag()\n",
      "\u001b[36mℹ\u001b[39m Use the conflicted package (\u001b[3m\u001b[34m<http://conflicted.r-lib.org/>\u001b[39m\u001b[23m) to force all conflicts to become errors\n",
      "── \u001b[1mAttaching packages\u001b[22m ────────────────────────────────────── tidymodels 1.1.1 ──\n",
      "\n",
      "\u001b[32m✔\u001b[39m \u001b[34mbroom       \u001b[39m 1.0.5     \u001b[32m✔\u001b[39m \u001b[34mrsample     \u001b[39m 1.2.0\n",
      "\u001b[32m✔\u001b[39m \u001b[34mdials       \u001b[39m 1.2.0     \u001b[32m✔\u001b[39m \u001b[34mtune        \u001b[39m 1.1.2\n",
      "\u001b[32m✔\u001b[39m \u001b[34minfer       \u001b[39m 1.0.5     \u001b[32m✔\u001b[39m \u001b[34mworkflows   \u001b[39m 1.1.3\n",
      "\u001b[32m✔\u001b[39m \u001b[34mmodeldata   \u001b[39m 1.2.0     \u001b[32m✔\u001b[39m \u001b[34mworkflowsets\u001b[39m 1.0.1\n",
      "\u001b[32m✔\u001b[39m \u001b[34mparsnip     \u001b[39m 1.1.1     \u001b[32m✔\u001b[39m \u001b[34myardstick   \u001b[39m 1.2.0\n",
      "\u001b[32m✔\u001b[39m \u001b[34mrecipes     \u001b[39m 1.0.8     \n",
      "\n",
      "── \u001b[1mConflicts\u001b[22m ───────────────────────────────────────── tidymodels_conflicts() ──\n",
      "\u001b[31m✖\u001b[39m \u001b[34mscales\u001b[39m::\u001b[32mdiscard()\u001b[39m masks \u001b[34mpurrr\u001b[39m::discard()\n",
      "\u001b[31m✖\u001b[39m \u001b[34mdplyr\u001b[39m::\u001b[32mfilter()\u001b[39m   masks \u001b[34mstats\u001b[39m::filter()\n",
      "\u001b[31m✖\u001b[39m \u001b[34mrecipes\u001b[39m::\u001b[32mfixed()\u001b[39m  masks \u001b[34mstringr\u001b[39m::fixed()\n",
      "\u001b[31m✖\u001b[39m \u001b[34mdplyr\u001b[39m::\u001b[32mlag()\u001b[39m      masks \u001b[34mstats\u001b[39m::lag()\n",
      "\u001b[31m✖\u001b[39m \u001b[34myardstick\u001b[39m::\u001b[32mspec()\u001b[39m masks \u001b[34mreadr\u001b[39m::spec()\n",
      "\u001b[31m✖\u001b[39m \u001b[34mrecipes\u001b[39m::\u001b[32mstep()\u001b[39m   masks \u001b[34mstats\u001b[39m::step()\n",
      "\u001b[34m•\u001b[39m Use suppressPackageStartupMessages() to eliminate package startup messages\n",
      "\n",
      "Warning message in file(filename, \"r\", encoding = encoding):\n",
      "“cannot open file 'tests.R': No such file or directory”\n"
     ]
    },
    {
     "ename": "ERROR",
     "evalue": "Error in file(filename, \"r\", encoding = encoding): cannot open the connection\n",
     "output_type": "error",
     "traceback": [
      "Error in file(filename, \"r\", encoding = encoding): cannot open the connection\nTraceback:\n",
      "1. source(\"tests.R\")",
      "2. file(filename, \"r\", encoding = encoding)"
     ]
    }
   ],
   "source": [
    "library(tidyverse)\n",
    "library(repr)\n",
    "library(tidymodels)\n",
    "options(repr.matrix.max.rows = 6)\n",
    "source('tests.R')\n",
    "source('cleanup.R')"
   ]
  },
  {
   "cell_type": "code",
   "execution_count": 6,
   "id": "2026560d-563c-468f-92b4-990329af5886",
   "metadata": {},
   "outputs": [
    {
     "name": "stderr",
     "output_type": "stream",
     "text": [
      "\u001b[1mRows: \u001b[22m\u001b[34m381\u001b[39m \u001b[1mColumns: \u001b[22m\u001b[34m13\u001b[39m\n",
      "\u001b[36m──\u001b[39m \u001b[1mColumn specification\u001b[22m \u001b[36m────────────────────────────────────────────────────────\u001b[39m\n",
      "\u001b[1mDelimiter:\u001b[22m \",\"\n",
      "\u001b[31mchr\u001b[39m (8): Loan_ID, Gender, Married, Dependents, Education, Self_Employed, Pro...\n",
      "\u001b[32mdbl\u001b[39m (5): ApplicantIncome, CoapplicantIncome, LoanAmount, Loan_Amount_Term, C...\n",
      "\n",
      "\u001b[36mℹ\u001b[39m Use `spec()` to retrieve the full column specification for this data.\n",
      "\u001b[36mℹ\u001b[39m Specify the column types or set `show_col_types = FALSE` to quiet this message.\n"
     ]
    },
    {
     "data": {
      "text/html": [
       "<table class=\"dataframe\">\n",
       "<caption>A spec_tbl_df: 381 × 13</caption>\n",
       "<thead>\n",
       "\t<tr><th scope=col>Loan_ID</th><th scope=col>Gender</th><th scope=col>Married</th><th scope=col>Dependents</th><th scope=col>Education</th><th scope=col>Self_Employed</th><th scope=col>ApplicantIncome</th><th scope=col>CoapplicantIncome</th><th scope=col>LoanAmount</th><th scope=col>Loan_Amount_Term</th><th scope=col>Credit_History</th><th scope=col>Property_Area</th><th scope=col>Loan_Status</th></tr>\n",
       "\t<tr><th scope=col>&lt;chr&gt;</th><th scope=col>&lt;chr&gt;</th><th scope=col>&lt;chr&gt;</th><th scope=col>&lt;chr&gt;</th><th scope=col>&lt;chr&gt;</th><th scope=col>&lt;chr&gt;</th><th scope=col>&lt;dbl&gt;</th><th scope=col>&lt;dbl&gt;</th><th scope=col>&lt;dbl&gt;</th><th scope=col>&lt;dbl&gt;</th><th scope=col>&lt;dbl&gt;</th><th scope=col>&lt;chr&gt;</th><th scope=col>&lt;chr&gt;</th></tr>\n",
       "</thead>\n",
       "<tbody>\n",
       "\t<tr><td>LP001003</td><td>Male</td><td>Yes</td><td>1</td><td>Graduate    </td><td>No </td><td>4583</td><td>1508</td><td>128</td><td>360</td><td>1</td><td>Rural</td><td>N</td></tr>\n",
       "\t<tr><td>LP001005</td><td>Male</td><td>Yes</td><td>0</td><td>Graduate    </td><td>Yes</td><td>3000</td><td>   0</td><td> 66</td><td>360</td><td>1</td><td>Urban</td><td>Y</td></tr>\n",
       "\t<tr><td>LP001006</td><td>Male</td><td>Yes</td><td>0</td><td>Not Graduate</td><td>No </td><td>2583</td><td>2358</td><td>120</td><td>360</td><td>1</td><td>Urban</td><td>Y</td></tr>\n",
       "\t<tr><td>⋮</td><td>⋮</td><td>⋮</td><td>⋮</td><td>⋮</td><td>⋮</td><td>⋮</td><td>⋮</td><td>⋮</td><td>⋮</td><td>⋮</td><td>⋮</td><td>⋮</td></tr>\n",
       "\t<tr><td>LP002978</td><td>Female</td><td>No </td><td>0 </td><td>Graduate</td><td>No </td><td>2900</td><td>0</td><td> 71</td><td>360</td><td>1</td><td>Rural    </td><td>Y</td></tr>\n",
       "\t<tr><td>LP002979</td><td>Male  </td><td>Yes</td><td>3+</td><td>Graduate</td><td>No </td><td>4106</td><td>0</td><td> 40</td><td>180</td><td>1</td><td>Rural    </td><td>Y</td></tr>\n",
       "\t<tr><td>LP002990</td><td>Female</td><td>No </td><td>0 </td><td>Graduate</td><td>Yes</td><td>4583</td><td>0</td><td>133</td><td>360</td><td>0</td><td>Semiurban</td><td>N</td></tr>\n",
       "</tbody>\n",
       "</table>\n"
      ],
      "text/latex": [
       "A spec\\_tbl\\_df: 381 × 13\n",
       "\\begin{tabular}{lllllllllllll}\n",
       " Loan\\_ID & Gender & Married & Dependents & Education & Self\\_Employed & ApplicantIncome & CoapplicantIncome & LoanAmount & Loan\\_Amount\\_Term & Credit\\_History & Property\\_Area & Loan\\_Status\\\\\n",
       " <chr> & <chr> & <chr> & <chr> & <chr> & <chr> & <dbl> & <dbl> & <dbl> & <dbl> & <dbl> & <chr> & <chr>\\\\\n",
       "\\hline\n",
       "\t LP001003 & Male & Yes & 1 & Graduate     & No  & 4583 & 1508 & 128 & 360 & 1 & Rural & N\\\\\n",
       "\t LP001005 & Male & Yes & 0 & Graduate     & Yes & 3000 &    0 &  66 & 360 & 1 & Urban & Y\\\\\n",
       "\t LP001006 & Male & Yes & 0 & Not Graduate & No  & 2583 & 2358 & 120 & 360 & 1 & Urban & Y\\\\\n",
       "\t ⋮ & ⋮ & ⋮ & ⋮ & ⋮ & ⋮ & ⋮ & ⋮ & ⋮ & ⋮ & ⋮ & ⋮ & ⋮\\\\\n",
       "\t LP002978 & Female & No  & 0  & Graduate & No  & 2900 & 0 &  71 & 360 & 1 & Rural     & Y\\\\\n",
       "\t LP002979 & Male   & Yes & 3+ & Graduate & No  & 4106 & 0 &  40 & 180 & 1 & Rural     & Y\\\\\n",
       "\t LP002990 & Female & No  & 0  & Graduate & Yes & 4583 & 0 & 133 & 360 & 0 & Semiurban & N\\\\\n",
       "\\end{tabular}\n"
      ],
      "text/markdown": [
       "\n",
       "A spec_tbl_df: 381 × 13\n",
       "\n",
       "| Loan_ID &lt;chr&gt; | Gender &lt;chr&gt; | Married &lt;chr&gt; | Dependents &lt;chr&gt; | Education &lt;chr&gt; | Self_Employed &lt;chr&gt; | ApplicantIncome &lt;dbl&gt; | CoapplicantIncome &lt;dbl&gt; | LoanAmount &lt;dbl&gt; | Loan_Amount_Term &lt;dbl&gt; | Credit_History &lt;dbl&gt; | Property_Area &lt;chr&gt; | Loan_Status &lt;chr&gt; |\n",
       "|---|---|---|---|---|---|---|---|---|---|---|---|---|\n",
       "| LP001003 | Male | Yes | 1 | Graduate     | No  | 4583 | 1508 | 128 | 360 | 1 | Rural | N |\n",
       "| LP001005 | Male | Yes | 0 | Graduate     | Yes | 3000 |    0 |  66 | 360 | 1 | Urban | Y |\n",
       "| LP001006 | Male | Yes | 0 | Not Graduate | No  | 2583 | 2358 | 120 | 360 | 1 | Urban | Y |\n",
       "| ⋮ | ⋮ | ⋮ | ⋮ | ⋮ | ⋮ | ⋮ | ⋮ | ⋮ | ⋮ | ⋮ | ⋮ | ⋮ |\n",
       "| LP002978 | Female | No  | 0  | Graduate | No  | 2900 | 0 |  71 | 360 | 1 | Rural     | Y |\n",
       "| LP002979 | Male   | Yes | 3+ | Graduate | No  | 4106 | 0 |  40 | 180 | 1 | Rural     | Y |\n",
       "| LP002990 | Female | No  | 0  | Graduate | Yes | 4583 | 0 | 133 | 360 | 0 | Semiurban | N |\n",
       "\n"
      ],
      "text/plain": [
       "    Loan_ID  Gender Married Dependents Education    Self_Employed\n",
       "1   LP001003 Male   Yes     1          Graduate     No           \n",
       "2   LP001005 Male   Yes     0          Graduate     Yes          \n",
       "3   LP001006 Male   Yes     0          Not Graduate No           \n",
       "⋮   ⋮        ⋮      ⋮       ⋮          ⋮            ⋮            \n",
       "379 LP002978 Female No      0          Graduate     No           \n",
       "380 LP002979 Male   Yes     3+         Graduate     No           \n",
       "381 LP002990 Female No      0          Graduate     Yes          \n",
       "    ApplicantIncome CoapplicantIncome LoanAmount Loan_Amount_Term\n",
       "1   4583            1508              128        360             \n",
       "2   3000               0               66        360             \n",
       "3   2583            2358              120        360             \n",
       "⋮   ⋮               ⋮                 ⋮          ⋮               \n",
       "379 2900            0                  71        360             \n",
       "380 4106            0                  40        180             \n",
       "381 4583            0                 133        360             \n",
       "    Credit_History Property_Area Loan_Status\n",
       "1   1              Rural         N          \n",
       "2   1              Urban         Y          \n",
       "3   1              Urban         Y          \n",
       "⋮   ⋮              ⋮             ⋮          \n",
       "379 1              Rural         Y          \n",
       "380 1              Rural         Y          \n",
       "381 0              Semiurban     N          "
      ]
     },
     "metadata": {},
     "output_type": "display_data"
    }
   ],
   "source": [
    "# reading the data\n",
    "\n",
    "loan_data <- read_csv(\"Group Project/loan_data.csv\")\n",
    "loan_data\n",
    "\n",
    "\n",
    "# the csv file is in different columns, but it says delim - , so i did .csv but do i have to do smtg else?\n",
    "# i can also change the delim so should i use read_delim or keep read_csv?\n",
    "# is the data already tidy? i think so "
   ]
  },
  {
   "cell_type": "markdown",
   "id": "a828d366-85ef-4403-97d5-e52a27a35f8d",
   "metadata": {},
   "source": [
    "hello"
   ]
  },
  {
   "cell_type": "code",
   "execution_count": null,
   "id": "475b5d92-e76f-4d29-b0e5-156d0a5bce0f",
   "metadata": {},
   "outputs": [],
   "source": []
  }
 ],
 "metadata": {
  "kernelspec": {
   "display_name": "R",
   "language": "R",
   "name": "ir"
  },
  "language_info": {
   "codemirror_mode": "r",
   "file_extension": ".r",
   "mimetype": "text/x-r-source",
   "name": "R",
   "pygments_lexer": "r",
   "version": "4.3.1"
  }
 },
 "nbformat": 4,
 "nbformat_minor": 5
}
