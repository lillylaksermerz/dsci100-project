{
 "cells": [
  {
   "cell_type": "markdown",
   "id": "24beff62-bef3-4cfe-8bef-edb6b77476a1",
   "metadata": {},
   "source": [
    "# Loan Status Prediction (edit title)"
   ]
  },
  {
   "cell_type": "markdown",
   "id": "eda8d476-343b-4ddb-93e7-dd50c1b804b0",
   "metadata": {},
   "source": [
    "## Introduction\n",
    "\n",
    "#### Provide some relevant background information on the topic so that someone unfamiliar with it will be prepared to understand the rest of your proposal\n",
    "\n",
    "When an individual requests a loan from an entity such as a government, corporation or bank, they must submit an application in which they request the amount they need to borrow. The entity can approve or deny the request, based on factors such as the individual’s financial history and character. \n",
    "\n",
    "#### Clearly state the question you will try to answer with your project\n",
    "\n",
    "In our project, we are trying to predict whether or not a person will have their loan approved based on the characteristics described in the data set. The predictive question we are trying to answer in our project is “Will a loan applicant with [insert variables] have their loan approved or denied?”. \n",
    "\n",
    "#### Identify and describe the dataset that will be used to answer the question\n",
    "\n",
    "The data set provided by Kaggle is focused on providing information on whether or not an individual who applied for a property loan receives the loan. The data set has 13 columns and includes data on many characteristics of the applicant, including categorical variables such as gender, marital status, number of dependents, education, whether or not they’re self-employed, whether or not their credit history meets guidelines, property area, and loan status, as well as quantitative variables such as income, coapplicant income, loan amount, and loan term. "
   ]
  },
  {
   "cell_type": "markdown",
   "id": "7b8535e1-7bb6-4449-9267-51de24a15c43",
   "metadata": {},
   "source": [
    "## Preliminary exploratory data analysis"
   ]
  },
  {
   "cell_type": "code",
   "execution_count": 8,
   "id": "e9c6d2ba-7f5f-4ba4-b53e-e241c87d3c51",
   "metadata": {},
   "outputs": [
    {
     "name": "stderr",
     "output_type": "stream",
     "text": [
      "Warning message in file(filename, \"r\", encoding = encoding):\n",
      "“cannot open file 'tests.R': No such file or directory”\n"
     ]
    },
    {
     "ename": "ERROR",
     "evalue": "Error in file(filename, \"r\", encoding = encoding): cannot open the connection\n",
     "output_type": "error",
     "traceback": [
      "Error in file(filename, \"r\", encoding = encoding): cannot open the connection\nTraceback:\n",
      "1. source(\"tests.R\")",
      "2. file(filename, \"r\", encoding = encoding)"
     ]
    }
   ],
   "source": [
    "library(tidyverse)\n",
    "library(repr)\n",
    "library(tidymodels)\n",
    "options(repr.matrix.max.rows = 6)\n",
    "source('tests.R')\n",
    "source('cleanup.R')"
   ]
  },
  {
   "cell_type": "code",
   "execution_count": 9,
   "id": "2026560d-563c-468f-92b4-990329af5886",
   "metadata": {},
   "outputs": [
    {
     "name": "stderr",
     "output_type": "stream",
     "text": [
      "\u001b[1mRows: \u001b[22m\u001b[34m381\u001b[39m \u001b[1mColumns: \u001b[22m\u001b[34m13\u001b[39m\n",
      "\u001b[36m──\u001b[39m \u001b[1mColumn specification\u001b[22m \u001b[36m────────────────────────────────────────────────────────\u001b[39m\n",
      "\u001b[1mDelimiter:\u001b[22m \",\"\n",
      "\u001b[31mchr\u001b[39m (8): Loan_ID, Gender, Married, Dependents, Education, Self_Employed, Pro...\n",
      "\u001b[32mdbl\u001b[39m (5): ApplicantIncome, CoapplicantIncome, LoanAmount, Loan_Amount_Term, C...\n",
      "\n",
      "\u001b[36mℹ\u001b[39m Use `spec()` to retrieve the full column specification for this data.\n",
      "\u001b[36mℹ\u001b[39m Specify the column types or set `show_col_types = FALSE` to quiet this message.\n"
     ]
    },
    {
     "data": {
      "text/html": [
       "<table class=\"dataframe\">\n",
       "<caption>A spec_tbl_df: 381 × 13</caption>\n",
       "<thead>\n",
       "\t<tr><th scope=col>Loan_ID</th><th scope=col>Gender</th><th scope=col>Married</th><th scope=col>Dependents</th><th scope=col>Education</th><th scope=col>Self_Employed</th><th scope=col>ApplicantIncome</th><th scope=col>CoapplicantIncome</th><th scope=col>LoanAmount</th><th scope=col>Loan_Amount_Term</th><th scope=col>Credit_History</th><th scope=col>Property_Area</th><th scope=col>Loan_Status</th></tr>\n",
       "\t<tr><th scope=col>&lt;chr&gt;</th><th scope=col>&lt;chr&gt;</th><th scope=col>&lt;chr&gt;</th><th scope=col>&lt;chr&gt;</th><th scope=col>&lt;chr&gt;</th><th scope=col>&lt;chr&gt;</th><th scope=col>&lt;dbl&gt;</th><th scope=col>&lt;dbl&gt;</th><th scope=col>&lt;dbl&gt;</th><th scope=col>&lt;dbl&gt;</th><th scope=col>&lt;dbl&gt;</th><th scope=col>&lt;chr&gt;</th><th scope=col>&lt;chr&gt;</th></tr>\n",
       "</thead>\n",
       "<tbody>\n",
       "\t<tr><td>LP001003</td><td>Male</td><td>Yes</td><td>1</td><td>Graduate    </td><td>No </td><td>4583</td><td>1508</td><td>128</td><td>360</td><td>1</td><td>Rural</td><td>N</td></tr>\n",
       "\t<tr><td>LP001005</td><td>Male</td><td>Yes</td><td>0</td><td>Graduate    </td><td>Yes</td><td>3000</td><td>   0</td><td> 66</td><td>360</td><td>1</td><td>Urban</td><td>Y</td></tr>\n",
       "\t<tr><td>LP001006</td><td>Male</td><td>Yes</td><td>0</td><td>Not Graduate</td><td>No </td><td>2583</td><td>2358</td><td>120</td><td>360</td><td>1</td><td>Urban</td><td>Y</td></tr>\n",
       "\t<tr><td>⋮</td><td>⋮</td><td>⋮</td><td>⋮</td><td>⋮</td><td>⋮</td><td>⋮</td><td>⋮</td><td>⋮</td><td>⋮</td><td>⋮</td><td>⋮</td><td>⋮</td></tr>\n",
       "\t<tr><td>LP002978</td><td>Female</td><td>No </td><td>0 </td><td>Graduate</td><td>No </td><td>2900</td><td>0</td><td> 71</td><td>360</td><td>1</td><td>Rural    </td><td>Y</td></tr>\n",
       "\t<tr><td>LP002979</td><td>Male  </td><td>Yes</td><td>3+</td><td>Graduate</td><td>No </td><td>4106</td><td>0</td><td> 40</td><td>180</td><td>1</td><td>Rural    </td><td>Y</td></tr>\n",
       "\t<tr><td>LP002990</td><td>Female</td><td>No </td><td>0 </td><td>Graduate</td><td>Yes</td><td>4583</td><td>0</td><td>133</td><td>360</td><td>0</td><td>Semiurban</td><td>N</td></tr>\n",
       "</tbody>\n",
       "</table>\n"
      ],
      "text/latex": [
       "A spec\\_tbl\\_df: 381 × 13\n",
       "\\begin{tabular}{lllllllllllll}\n",
       " Loan\\_ID & Gender & Married & Dependents & Education & Self\\_Employed & ApplicantIncome & CoapplicantIncome & LoanAmount & Loan\\_Amount\\_Term & Credit\\_History & Property\\_Area & Loan\\_Status\\\\\n",
       " <chr> & <chr> & <chr> & <chr> & <chr> & <chr> & <dbl> & <dbl> & <dbl> & <dbl> & <dbl> & <chr> & <chr>\\\\\n",
       "\\hline\n",
       "\t LP001003 & Male & Yes & 1 & Graduate     & No  & 4583 & 1508 & 128 & 360 & 1 & Rural & N\\\\\n",
       "\t LP001005 & Male & Yes & 0 & Graduate     & Yes & 3000 &    0 &  66 & 360 & 1 & Urban & Y\\\\\n",
       "\t LP001006 & Male & Yes & 0 & Not Graduate & No  & 2583 & 2358 & 120 & 360 & 1 & Urban & Y\\\\\n",
       "\t ⋮ & ⋮ & ⋮ & ⋮ & ⋮ & ⋮ & ⋮ & ⋮ & ⋮ & ⋮ & ⋮ & ⋮ & ⋮\\\\\n",
       "\t LP002978 & Female & No  & 0  & Graduate & No  & 2900 & 0 &  71 & 360 & 1 & Rural     & Y\\\\\n",
       "\t LP002979 & Male   & Yes & 3+ & Graduate & No  & 4106 & 0 &  40 & 180 & 1 & Rural     & Y\\\\\n",
       "\t LP002990 & Female & No  & 0  & Graduate & Yes & 4583 & 0 & 133 & 360 & 0 & Semiurban & N\\\\\n",
       "\\end{tabular}\n"
      ],
      "text/markdown": [
       "\n",
       "A spec_tbl_df: 381 × 13\n",
       "\n",
       "| Loan_ID &lt;chr&gt; | Gender &lt;chr&gt; | Married &lt;chr&gt; | Dependents &lt;chr&gt; | Education &lt;chr&gt; | Self_Employed &lt;chr&gt; | ApplicantIncome &lt;dbl&gt; | CoapplicantIncome &lt;dbl&gt; | LoanAmount &lt;dbl&gt; | Loan_Amount_Term &lt;dbl&gt; | Credit_History &lt;dbl&gt; | Property_Area &lt;chr&gt; | Loan_Status &lt;chr&gt; |\n",
       "|---|---|---|---|---|---|---|---|---|---|---|---|---|\n",
       "| LP001003 | Male | Yes | 1 | Graduate     | No  | 4583 | 1508 | 128 | 360 | 1 | Rural | N |\n",
       "| LP001005 | Male | Yes | 0 | Graduate     | Yes | 3000 |    0 |  66 | 360 | 1 | Urban | Y |\n",
       "| LP001006 | Male | Yes | 0 | Not Graduate | No  | 2583 | 2358 | 120 | 360 | 1 | Urban | Y |\n",
       "| ⋮ | ⋮ | ⋮ | ⋮ | ⋮ | ⋮ | ⋮ | ⋮ | ⋮ | ⋮ | ⋮ | ⋮ | ⋮ |\n",
       "| LP002978 | Female | No  | 0  | Graduate | No  | 2900 | 0 |  71 | 360 | 1 | Rural     | Y |\n",
       "| LP002979 | Male   | Yes | 3+ | Graduate | No  | 4106 | 0 |  40 | 180 | 1 | Rural     | Y |\n",
       "| LP002990 | Female | No  | 0  | Graduate | Yes | 4583 | 0 | 133 | 360 | 0 | Semiurban | N |\n",
       "\n"
      ],
      "text/plain": [
       "    Loan_ID  Gender Married Dependents Education    Self_Employed\n",
       "1   LP001003 Male   Yes     1          Graduate     No           \n",
       "2   LP001005 Male   Yes     0          Graduate     Yes          \n",
       "3   LP001006 Male   Yes     0          Not Graduate No           \n",
       "⋮   ⋮        ⋮      ⋮       ⋮          ⋮            ⋮            \n",
       "379 LP002978 Female No      0          Graduate     No           \n",
       "380 LP002979 Male   Yes     3+         Graduate     No           \n",
       "381 LP002990 Female No      0          Graduate     Yes          \n",
       "    ApplicantIncome CoapplicantIncome LoanAmount Loan_Amount_Term\n",
       "1   4583            1508              128        360             \n",
       "2   3000               0               66        360             \n",
       "3   2583            2358              120        360             \n",
       "⋮   ⋮               ⋮                 ⋮          ⋮               \n",
       "379 2900            0                  71        360             \n",
       "380 4106            0                  40        180             \n",
       "381 4583            0                 133        360             \n",
       "    Credit_History Property_Area Loan_Status\n",
       "1   1              Rural         N          \n",
       "2   1              Urban         Y          \n",
       "3   1              Urban         Y          \n",
       "⋮   ⋮              ⋮             ⋮          \n",
       "379 1              Rural         Y          \n",
       "380 1              Rural         Y          \n",
       "381 0              Semiurban     N          "
      ]
     },
     "metadata": {},
     "output_type": "display_data"
    }
   ],
   "source": [
    "# reading the data\n",
    "\n",
    "loan_data <- read_csv(\"Group Project/loan_data.csv\")\n",
    "loan_data"
   ]
  },
  {
   "cell_type": "code",
   "execution_count": 5,
   "id": "475b5d92-e76f-4d29-b0e5-156d0a5bce0f",
   "metadata": {},
   "outputs": [
    {
     "ename": "ERROR",
     "evalue": "Error in loan_means: The pipe operator requires a function call as RHS (<text>:17:1)\n",
     "output_type": "error",
     "traceback": [
      "Error in loan_means: The pipe operator requires a function call as RHS (<text>:17:1)\nTraceback:\n"
     ]
    }
   ],
   "source": [
    "# splitting between training and testing sets \n",
    "\n",
    "loan_split <- initial_split(loan_data, prop = 0.75, strata = Loan_Status) \n",
    "loan_training <- training(loan_split) \n",
    "loan_testing <- testing(loan_split) \n",
    "\n",
    "# exploratory data analysis (table) \n",
    "\n",
    "loan_counts <- loan_training |>\n",
    "    group_by(Loan_Status) |>\n",
    "    summarise(Number_of_Observations = n())\n",
    "loan_counts\n",
    "\n",
    "loan_missing_data <- loan_training |>\n",
    "# ask TA because our dataset has empty spaces instead of NA\n",
    "\n",
    "loan_means <- loan_training |> \n",
    "    select(ApplicantIncome, CoapplicantIncome, LoanAmount, Loan_Amount_Term) |>\n",
    "    map_dfr(mean, na.rm = TRUE) \n",
    "loan_means\n",
    "\n",
    "# exploratory data analysis (plots) \n",
    "\n",
    "loan_distributions <- loan_training |>\n",
    "    ggplot(aes(x = ApplicantIncome)) +\n",
    "    geom_histogram() \n",
    "loan_distributions"
   ]
  },
  {
   "cell_type": "markdown",
   "id": "07ae36e1-04fb-4b49-b5b0-ee8e6b40c517",
   "metadata": {},
   "source": [
    "## Methods \n",
    "\n",
    "#### Explain how you will conduct either your data analysis and which variables/columns you will use. \n",
    "\n",
    "Data analysis will be conducted using k-nearest neighbours classification through a tidymodels workflow. \n",
    "Variables we will use: \n",
    "- ApplicantIncome\n",
    "- Co-applicant income\n",
    "- LoanAmount\n",
    "- Loan amount term \n",
    "- Credit history \n",
    "- Property area \n",
    "\n",
    "#### Describe at least one way that you will visualize the results"
   ]
  },
  {
   "cell_type": "markdown",
   "id": "57bf9d36-4fc7-4d66-9949-c46c234b205c",
   "metadata": {},
   "source": [
    "## Expected outcomes and significance\n",
    "\n",
    "#### What do you expect to find?\n",
    "\n",
    "Using predictors to decide if a new applicant would be eligible for a loan.\n",
    "\n",
    "#### What impact could such findings have?\n",
    "\n",
    "The findings could show bias in loan approval and indicate which populations may have a harder time being approved for a loan. \n",
    "\n",
    "#### What future questions could this lead to?\n",
    "\n",
    "This could lead to mechanistic questions about the underlying mechanism behind whether or not someone receives a loan. One could also pose an inferential question based on the preliminary exploratory data about how the variables in this data set can be applied to the wider population. "
   ]
  },
  {
   "cell_type": "code",
   "execution_count": null,
   "id": "2576366b-c992-468f-b1b6-db9f7745c4cf",
   "metadata": {},
   "outputs": [],
   "source": []
  }
 ],
 "metadata": {
  "kernelspec": {
   "display_name": "R",
   "language": "R",
   "name": "ir"
  },
  "language_info": {
   "codemirror_mode": "r",
   "file_extension": ".r",
   "mimetype": "text/x-r-source",
   "name": "R",
   "pygments_lexer": "r",
   "version": "4.3.1"
  }
 },
 "nbformat": 4,
 "nbformat_minor": 5
}
